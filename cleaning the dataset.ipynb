{
  "nbformat": 4,
  "nbformat_minor": 0,
  "metadata": {
    "colab": {
      "provenance": []
    },
    "kernelspec": {
      "name": "python3",
      "display_name": "Python 3"
    },
    "language_info": {
      "name": "python"
    }
  },
  "cells": [
    {
      "cell_type": "code",
      "execution_count": null,
      "metadata": {
        "id": "p_bQiA45rXb3"
      },
      "outputs": [],
      "source": [
        "# Step 1: Load Libraries\n",
        "import pandas as pd\n",
        "import numpy as np\n",
        "import matplotlib.pyplot as plt\n",
        "import seaborn as sns\n",
        "from sklearn.preprocessing import StandardScaler\n",
        "from sklearn.cluster import KMeans\n",
        "from sklearn.decomposition import PCA\n",
        "from scipy.stats import zscore\n",
        "\n",
        "# Step 2: Load Dataset from Google Drive\n",
        "from google.colab import files\n",
        "uploaded = files.upload()\n",
        "\n",
        "# Load the dataset (Replace 'customer_behavior_analytics.csv' with your actual filename)\n",
        "df = pd.read_csv(\"/content/customer_behavior_analytcis.csv\")\n",
        "\n",
        "# Step 3: Data Exploration\n",
        "print(df.info())\n",
        "print(df.head())\n",
        "\n",
        "# Step 4: Handle Missing Values\n",
        "# Select only numeric columns for median calculation\n",
        "numeric_df = df.select_dtypes(include=np.number)\n",
        "numeric_df.fillna(numeric_df.median(), inplace=True)\n",
        "# Update the original DataFrame with the filled values\n",
        "df[numeric_df.columns] = numeric_df\n",
        "\n",
        "# Step 5: Drop Unnecessary Columns\n",
        "df.drop(columns=['customer_id'], inplace=True)  # Removing customer ID since it's not needed\n",
        "\n",
        "# Step 6: Check for Duplicates\n",
        "duplicate_rows = df.duplicated().sum()\n",
        "print(f\"Duplicate Rows: {duplicate_rows}\")\n",
        "df = df.drop_duplicates()\n",
        "\n",
        "# Step 7: Detect and Remove Outliers Using Z-Score\n",
        "z_scores = np.abs(zscore(df))\n",
        "outlier_threshold = 3  # Typically, a Z-score above 3 is considered an outlier\n",
        "outliers = (z_scores > outlier_threshold).sum(axis=0)\n",
        "print(f\"Outliers per column: \\n{outliers}\")\n",
        "\n",
        "# Remove outliers\n",
        "df_cleaned = df[(z_scores < outlier_threshold).all(axis=1)]\n",
        "\n",
        "# Step 8: Summary Statistics After Cleaning\n",
        "print(df_cleaned.describe())\n",
        "\n",
        "# Save Cleaned Data\n",
        "df_cleaned.to_csv(\"cleaned_customer_behavior.csv\", index=False)\n",
        "print(\"Cleaned dataset saved as 'cleaned_customer_behavior.csv'\")"
      ]
    }
  ]
}